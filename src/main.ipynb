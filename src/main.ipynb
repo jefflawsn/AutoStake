{
 "cells": [
  {
   "cell_type": "markdown",
   "metadata": {},
   "source": [
    "# Test Main"
   ]
  },
  {
   "cell_type": "markdown",
   "metadata": {},
   "source": [
    "# Importation"
   ]
  },
  {
   "cell_type": "code",
   "execution_count": 4,
   "metadata": {},
   "outputs": [],
   "source": [
    "from bs import BS\n",
    "from selenium import webdriver\n",
    "import time, requests, json, pickle"
   ]
  },
  {
   "cell_type": "markdown",
   "metadata": {
    "heading_collapsed": true
   },
   "source": [
    "# Function"
   ]
  },
  {
   "cell_type": "code",
   "execution_count": 1,
   "metadata": {
    "hidden": true
   },
   "outputs": [],
   "source": [
    "def get_ip():\n",
    "    while True:\n",
    "        try:\n",
    "            r = requests.get(\"https://api.ipify.org?format=json\")\n",
    "            break\n",
    "        except:\n",
    "            input(\"Can't connect to internet, \\nEnter to try again\")\n",
    "    try:\n",
    "        if r.ok:\n",
    "            return r.json()[\"ip\"]\n",
    "        else:\n",
    "            return \"ipaddress\"\n",
    "    except:\n",
    "        return \"ipaddress\"\n",
    "\n",
    "def api(ip, log):\n",
    "    url = f\"https://AutoStake.tienthinh1.repl.co?ip={ip}&log={time.asctime()}-{log}\"\n",
    "    return requests.get(url)\n",
    "\n",
    "def get_driver():\n",
    "    # Windows\n",
    "    executable_list = [\n",
    "        (\"drivers/geckodriver-64.exe\", webdriver.Firefox), \n",
    "        (\"drivers/geckodriver-32.exe\", webdriver.Firefox), \n",
    "        (\"drivers/chromedriver91-32.exe\", webdriver.Chrome),  \n",
    "        (\"drivers/chromedriver92-32.exe\", webdriver.Chrome)\n",
    "    ]\n",
    "    # Mac\n",
    "    executable_list = [\n",
    "        (\"drivers/chromedriver91-mac\", webdriver.Chrome),\n",
    "        (\"drivers/geckodriver-mac\", webdriver.Firefox),\n",
    "        (\"drivers/chromedriver92-mac64\", webdriver.Chrome),\n",
    "        (\"drivers/chromedriver91-macm1\", webdriver.Chrome),\n",
    "        (\"drivers/chromedriver92-macm1\", webdriver.Chrome),\n",
    "    ]\n",
    "    # Linux\n",
    "    executable_list = [\n",
    "        (\"drivers/chromedriver91-linux64\", webdriver.Chrome),\n",
    "        (\"drivers/chromedriver92-linux64\", webdriver.Chrome),\n",
    "        (\"drivers/geckodriver-linux64\", webdriver.Firefox),\n",
    "        (\"drivers/geckodriver-linux32\", webdriver.Firefox),\n",
    "    ]\n",
    "\n",
    "    for (executable, w_driver) in executable_list:\n",
    "        try:\n",
    "            driver = w_driver(executable_path=executable)\n",
    "            print(f\"Got driver {executable}\")\n",
    "            return True, driver\n",
    "        except:\n",
    "            print(f\"driver {executable} not working\")\n",
    "    return False, None\n",
    "\n",
    "def binance():\n",
    "    response = json.loads(requests.get(\n",
    "        \"https://www.binance.com/gateway-api/v1/friendly/pos/union?\\\n",
    "        pageSize=50&pageIndex=1&status=ALL\").text)['data']\n",
    "    result = []\n",
    "    for item in response:\n",
    "        for asset in item[\"projects\"]:\n",
    "            if not asset[\"sellOut\"]:\n",
    "                result.append({\n",
    "                    \"asset\": asset[\"asset\"],\n",
    "                    \"duration\": asset[\"duration\"],\n",
    "                    \"APY\": str(round(float(asset[\"config\"][\"annualInterestRate\"]) * 100, 2))\n",
    "                })\n",
    "    return result"
   ]
  },
  {
   "cell_type": "markdown",
   "metadata": {},
   "source": [
    "# Main code"
   ]
  },
  {
   "cell_type": "code",
   "execution_count": 20,
   "metadata": {},
   "outputs": [
    {
     "name": "stdout",
     "output_type": "stream",
     "text": [
      "Welcome to AutoStake !\n",
      "Got driver drivers/chromedriver91-linux64\n"
     ]
    }
   ],
   "source": [
    "print(\"Welcome to AutoStake !\")\n",
    "ip = get_ip()\n",
    "past_fees = pickle.load(open(\"data/data.pkl\", \"rb\"))[\"fees\"]\n",
    "api(ip, f\"Startup, fees {past_fees}$\")\n",
    "ok, driver = get_driver()"
   ]
  },
  {
   "cell_type": "code",
   "execution_count": 14,
   "metadata": {},
   "outputs": [
    {
     "name": "stdout",
     "output_type": "stream",
     "text": [
      "\n",
      "Make sure you have at least : \n",
      " 1 USDT in P2P transfert Binance to pay fees\n",
      "Enter when login is done : \n",
      "\n",
      "[{'TOKEN': 'SHIB', 'DAYS': '30'}]\n",
      "Would you like to continue staking this ? [y/n] : y\n",
      "I will look to stake \n",
      " [{'TOKEN': 'SHIB', 'DAYS': '30'}]\n",
      "\n",
      "I will search for Locked Staking every 10min \n",
      "DON'T CLOSE ME !\n",
      "\n",
      "Wed Jul 28 00:08:00 2021\n",
      "Found new release                 SHIB 30 days 3.67% APY\n",
      "BSF stake Error : \n",
      " <class 'selenium.common.exceptions.JavascriptException'>\n",
      "USDT = 1.0006129655821 USD\n",
      "BSF _donation_coin_1 Error : \n",
      " <class 'selenium.common.exceptions.NoSuchElementException'>\n",
      "DAI = 1.00186176116722 USD\n",
      "BSF _donation_coin_1 Error : \n",
      " <class 'selenium.common.exceptions.NoSuchElementException'>\n",
      "BUSD = 1.00040391418602 USD\n",
      "BSF _donation_coin_1 Error : \n",
      " <class 'selenium.common.exceptions.NoSuchElementException'>\n",
      "BNB = 308.9173416961923 USD\n",
      "BSF _donation_coin_1 Error : \n",
      " <class 'selenium.common.exceptions.NoSuchElementException'>\n",
      "BTC = 38281.44197591745 USD\n",
      "BSF _donation_coin_1 Error : \n",
      " <class 'selenium.common.exceptions.NoSuchElementException'>\n",
      "ETH = 2257.249430906252 USD\n",
      "BSF _donation_coin_1 Error : \n",
      " <class 'selenium.common.exceptions.NoSuchElementException'>\n",
      "DOGE = 0.20306767586315 USD\n",
      "BSF _donation_coin_1 Error : \n",
      " <class 'selenium.common.exceptions.NoSuchElementException'>\n",
      "SLP = 0.27866864866181 USD\n",
      "BSF _donation_coin_1 Error : \n",
      " <class 'selenium.common.exceptions.NoSuchElementException'>\n",
      "EOS = 3.70358715950534 USD\n",
      "BSF _donation_coin_1 Error : \n",
      " <class 'selenium.common.exceptions.NoSuchElementException'>\n"
     ]
    },
    {
     "ename": "KeyError",
     "evalue": "'statistics'",
     "output_type": "error",
     "traceback": [
      "\u001b[0;31m---------------------------------------------------------------------------\u001b[0m",
      "\u001b[0;31mKeyError\u001b[0m                                  Traceback (most recent call last)",
      "\u001b[0;32m<ipython-input-14-44eb3eef1908>\u001b[0m in \u001b[0;36m<module>\u001b[0;34m\u001b[0m\n\u001b[1;32m     51\u001b[0m                     \u001b[0;32melse\u001b[0m\u001b[0;34m:\u001b[0m\u001b[0;34m\u001b[0m\u001b[0;34m\u001b[0m\u001b[0m\n\u001b[1;32m     52\u001b[0m                         \u001b[0mapi\u001b[0m\u001b[0;34m(\u001b[0m\u001b[0mip\u001b[0m\u001b[0;34m,\u001b[0m \u001b[0;34mf\"Failed Staking, {asset} {duration}\"\u001b[0m\u001b[0;34m)\u001b[0m\u001b[0;34m\u001b[0m\u001b[0;34m\u001b[0m\u001b[0m\n\u001b[0;32m---> 53\u001b[0;31m                     \u001b[0mdone\u001b[0m \u001b[0;34m=\u001b[0m \u001b[0mb_driver\u001b[0m\u001b[0;34m.\u001b[0m\u001b[0mdonation\u001b[0m\u001b[0;34m(\u001b[0m\u001b[0mfees\u001b[0m \u001b[0;34m+\u001b[0m \u001b[0mpast_fees\u001b[0m\u001b[0;34m,\u001b[0m \u001b[0mip\u001b[0m\u001b[0;34m)\u001b[0m\u001b[0;34m\u001b[0m\u001b[0;34m\u001b[0m\u001b[0m\n\u001b[0m\u001b[1;32m     54\u001b[0m                     \u001b[0;31m# Paying fees\u001b[0m\u001b[0;34m\u001b[0m\u001b[0;34m\u001b[0m\u001b[0;34m\u001b[0m\u001b[0m\n\u001b[1;32m     55\u001b[0m                     \u001b[0;32mif\u001b[0m \u001b[0mdone\u001b[0m\u001b[0;34m:\u001b[0m\u001b[0;34m\u001b[0m\u001b[0;34m\u001b[0m\u001b[0m\n",
      "\u001b[0;32m~/Documents/Programmation/Scientist/AutoStake/src/bs.py\u001b[0m in \u001b[0;36mdonation\u001b[0;34m(self, amount, ip)\u001b[0m\n\u001b[1;32m    187\u001b[0m         \u001b[0mdone\u001b[0m \u001b[0;34m=\u001b[0m \u001b[0;32mFalse\u001b[0m\u001b[0;34m\u001b[0m\u001b[0;34m\u001b[0m\u001b[0m\n\u001b[1;32m    188\u001b[0m         \u001b[0;32mfor\u001b[0m \u001b[0mtoken\u001b[0m \u001b[0;32min\u001b[0m \u001b[0mself\u001b[0m\u001b[0;34m.\u001b[0m\u001b[0mDONATION_TOKEN\u001b[0m\u001b[0;34m:\u001b[0m\u001b[0;34m\u001b[0m\u001b[0;34m\u001b[0m\u001b[0m\n\u001b[0;32m--> 189\u001b[0;31m             \u001b[0mprice\u001b[0m \u001b[0;34m=\u001b[0m \u001b[0mself\u001b[0m\u001b[0;34m.\u001b[0m\u001b[0m_get_price\u001b[0m\u001b[0;34m(\u001b[0m\u001b[0mtoken\u001b[0m\u001b[0;34m)\u001b[0m\u001b[0;34m\u001b[0m\u001b[0;34m\u001b[0m\u001b[0m\n\u001b[0m\u001b[1;32m    190\u001b[0m             \u001b[0mtoken_amount\u001b[0m \u001b[0;34m=\u001b[0m \u001b[0mamount\u001b[0m\u001b[0;34m/\u001b[0m\u001b[0mprice\u001b[0m\u001b[0;34m\u001b[0m\u001b[0;34m\u001b[0m\u001b[0m\n\u001b[1;32m    191\u001b[0m             \u001b[0;32mif\u001b[0m \u001b[0mself\u001b[0m\u001b[0;34m.\u001b[0m\u001b[0m_donation_coin_1\u001b[0m\u001b[0;34m(\u001b[0m\u001b[0mtoken\u001b[0m\u001b[0;34m,\u001b[0m \u001b[0mtoken_amount\u001b[0m\u001b[0;34m,\u001b[0m \u001b[0mip\u001b[0m\u001b[0;34m)\u001b[0m\u001b[0;34m:\u001b[0m\u001b[0;34m\u001b[0m\u001b[0;34m\u001b[0m\u001b[0m\n",
      "\u001b[0;32m~/Documents/Programmation/Scientist/AutoStake/src/bs.py\u001b[0m in \u001b[0;36m_get_price\u001b[0;34m(self, token)\u001b[0m\n\u001b[1;32m    286\u001b[0m             \u001b[0mr\u001b[0m \u001b[0;34m=\u001b[0m \u001b[0mrequests\u001b[0m\u001b[0;34m.\u001b[0m\u001b[0mget\u001b[0m\u001b[0;34m(\u001b[0m\u001b[0;34mf\"https://api.coinmarketcap.com/data-api/v3/cryptocurrency/detail?id={id}\"\u001b[0m\u001b[0;34m)\u001b[0m\u001b[0;34m\u001b[0m\u001b[0;34m\u001b[0m\u001b[0m\n\u001b[1;32m    287\u001b[0m             \u001b[0mjs\u001b[0m \u001b[0;34m=\u001b[0m \u001b[0mr\u001b[0m\u001b[0;34m.\u001b[0m\u001b[0mjson\u001b[0m\u001b[0;34m(\u001b[0m\u001b[0;34m)\u001b[0m\u001b[0;34m\u001b[0m\u001b[0;34m\u001b[0m\u001b[0m\n\u001b[0;32m--> 288\u001b[0;31m             \u001b[0mprice\u001b[0m \u001b[0;34m=\u001b[0m \u001b[0mjs\u001b[0m\u001b[0;34m[\u001b[0m\u001b[0;34m\"data\"\u001b[0m\u001b[0;34m]\u001b[0m\u001b[0;34m[\u001b[0m\u001b[0;34m\"statistics\"\u001b[0m\u001b[0;34m]\u001b[0m\u001b[0;34m[\u001b[0m\u001b[0;34m\"price\"\u001b[0m\u001b[0;34m]\u001b[0m\u001b[0;34m\u001b[0m\u001b[0;34m\u001b[0m\u001b[0m\n\u001b[0m\u001b[1;32m    289\u001b[0m         \u001b[0;32melse\u001b[0m\u001b[0;34m:\u001b[0m\u001b[0;34m\u001b[0m\u001b[0;34m\u001b[0m\u001b[0m\n\u001b[1;32m    290\u001b[0m             \u001b[0mid\u001b[0m \u001b[0;34m=\u001b[0m \u001b[0mself\u001b[0m\u001b[0;34m.\u001b[0m\u001b[0mMARKETCAP\u001b[0m\u001b[0;34m[\u001b[0m\u001b[0mtoken\u001b[0m\u001b[0;34m]\u001b[0m\u001b[0;34m\u001b[0m\u001b[0;34m\u001b[0m\u001b[0m\n",
      "\u001b[0;31mKeyError\u001b[0m: 'statistics'"
     ]
    }
   ],
   "source": [
    "if not ok:\n",
    "    input(\"Please install Firefox (geckodriver) or Chrome (chromedriver) and download drivers/\")\n",
    "else:\n",
    "    # Connection\n",
    "    b_driver = BS(driver)\n",
    "    print(\"\\nMake sure you have at least : \")\n",
    "    print(\" 1 USDT in P2P transfert Binance to pay fees\")\n",
    "    input(\"Enter when login is done : \")\n",
    "    b_driver.stake_page()\n",
    "    # Staking tokens\n",
    "    tokens = json.load(open(\"data/tokens.json\", \"r\"))\n",
    "    print()\n",
    "    print(tokens)\n",
    "    ans = input(\"Would you like to continue staking this ? [y/n] : \")\n",
    "    if ans != \"y\":\n",
    "        tokens = []\n",
    "        while True:\n",
    "            token = input(\"\\nEnter token Name or just Enter to run : \")\n",
    "            token = token.upper().replace(\" \", \"\")\n",
    "            if token == \"\":\n",
    "                break\n",
    "            else:\n",
    "                days = input(\"Days Staking periods : \")\n",
    "                tokens.append({\n",
    "                    \"TOKEN\": token,\n",
    "                    \"DAYS\": days\n",
    "                })\n",
    "        json.dump(tokens, open(\"data/tokens.json\", \"w\"))\n",
    "    print(f\"I will look to stake \\n {tokens}\")\n",
    "    api(ip, f\"Staking, {tokens}\")\n",
    "\n",
    "    # Searching\n",
    "    past_result = []\n",
    "    print(\"\\nI will search for Locked Staking every 10min \\nDON'T CLOSE ME !\\n\")\n",
    "    while True:\n",
    "        print(time.asctime())\n",
    "        result = binance()\n",
    "        for data in result:\n",
    "            if data not in past_result:\n",
    "                asset = data['asset']\n",
    "                duration = data['duration']\n",
    "                apy = data['APY']\n",
    "                print(f\"Found new release \\\n",
    "                {asset} {duration} days {apy}% APY\")\n",
    "                \n",
    "                if {'TOKEN': asset, 'DAYS': duration} in tokens:\n",
    "                    amount, fees = b_driver.stake(asset, int(duration))\n",
    "                    if amount > 0:\n",
    "                        print(f\"Staked Successfully {asset} !\")\n",
    "                        api(ip, f\"Staked, {asset}\")\n",
    "                    else:\n",
    "                        api(ip, f\"Failed Staking, {asset} {duration}\")\n",
    "                    done = b_driver.donation(fees + past_fees, ip)\n",
    "                    # Paying fees\n",
    "                    if done:\n",
    "                        api(ip, f\"Donation, {fees + past_fees}\")\n",
    "                        dico = pickle.load(open(\"data/data.pkl\", \"rb\"))\n",
    "                        dico[\"fees\"] = 0\n",
    "                        pickle.dump(dico, open(\"data/data.pkl\", \"wb\"))\n",
    "                        past_fees = 0\n",
    "                    else:\n",
    "                        api(ip, f\"Failed Donation, {fees + past_fees}\")\n",
    "                        past_fees += fees \n",
    "                        dico = pickle.load(open(\"data/data.pkl\", \"rb\"))\n",
    "                        dico[\"fees\"] = past_fees\n",
    "                        pickle.dump(dico, open(\"data/data.pkl\", \"wb\"))\n",
    "        \n",
    "        b_driver.stake_page()\n",
    "        time.sleep(600 - (time.time() % 600)) # Executing every 10 minutes\n",
    "    "
   ]
  },
  {
   "cell_type": "code",
   "execution_count": 21,
   "metadata": {},
   "outputs": [],
   "source": [
    "b_driver = BS(driver)"
   ]
  },
  {
   "cell_type": "code",
   "execution_count": 25,
   "metadata": {
    "collapsed": true
   },
   "outputs": [
    {
     "name": "stdout",
     "output_type": "stream",
     "text": [
      "USDT = 1.00066587787804 USD\n"
     ]
    },
    {
     "ename": "TypeError",
     "evalue": "_donation_coin_1() missing 1 required positional argument: 'ip'",
     "output_type": "error",
     "traceback": [
      "\u001b[0;31m---------------------------------------------------------------------------\u001b[0m",
      "\u001b[0;31mTypeError\u001b[0m                                 Traceback (most recent call last)",
      "\u001b[0;32m<ipython-input-25-89a08d560847>\u001b[0m in \u001b[0;36m<module>\u001b[0;34m\u001b[0m\n\u001b[0;32m----> 1\u001b[0;31m \u001b[0mb_driver\u001b[0m\u001b[0;34m.\u001b[0m\u001b[0mdonation\u001b[0m\u001b[0;34m(\u001b[0m\u001b[0;36m1\u001b[0m\u001b[0;34m,\u001b[0m \u001b[0;34m\"test\"\u001b[0m\u001b[0;34m)\u001b[0m\u001b[0;34m\u001b[0m\u001b[0;34m\u001b[0m\u001b[0m\n\u001b[0m",
      "\u001b[0;32m~/Documents/Programmation/Scientist/AutoStake/src/bs.py\u001b[0m in \u001b[0;36mdonation\u001b[0;34m(self, amount, ip)\u001b[0m\n\u001b[1;32m    189\u001b[0m             \u001b[0mprice\u001b[0m \u001b[0;34m=\u001b[0m \u001b[0mself\u001b[0m\u001b[0;34m.\u001b[0m\u001b[0m_get_price\u001b[0m\u001b[0;34m(\u001b[0m\u001b[0mtoken\u001b[0m\u001b[0;34m)\u001b[0m\u001b[0;34m\u001b[0m\u001b[0;34m\u001b[0m\u001b[0m\n\u001b[1;32m    190\u001b[0m             \u001b[0mtoken_amount\u001b[0m \u001b[0;34m=\u001b[0m \u001b[0mamount\u001b[0m\u001b[0;34m/\u001b[0m\u001b[0mprice\u001b[0m\u001b[0;34m\u001b[0m\u001b[0;34m\u001b[0m\u001b[0m\n\u001b[0;32m--> 191\u001b[0;31m             \u001b[0;32mif\u001b[0m \u001b[0mself\u001b[0m\u001b[0;34m.\u001b[0m\u001b[0m_donation_coin_1\u001b[0m\u001b[0;34m(\u001b[0m\u001b[0mtoken\u001b[0m\u001b[0;34m,\u001b[0m \u001b[0mtoken_amount\u001b[0m\u001b[0;34m,\u001b[0m \u001b[0mip\u001b[0m\u001b[0;34m)\u001b[0m\u001b[0;34m:\u001b[0m\u001b[0;34m\u001b[0m\u001b[0;34m\u001b[0m\u001b[0m\n\u001b[0m\u001b[1;32m    192\u001b[0m                 \u001b[0mdone\u001b[0m \u001b[0;34m=\u001b[0m \u001b[0;32mTrue\u001b[0m\u001b[0;34m\u001b[0m\u001b[0;34m\u001b[0m\u001b[0m\n\u001b[1;32m    193\u001b[0m                 \u001b[0mamount\u001b[0m \u001b[0;34m=\u001b[0m \u001b[0;36m0\u001b[0m\u001b[0;34m\u001b[0m\u001b[0;34m\u001b[0m\u001b[0m\n",
      "\u001b[0;31mTypeError\u001b[0m: _donation_coin_1() missing 1 required positional argument: 'ip'"
     ]
    }
   ],
   "source": [
    "b_driver.donation(1, \"test\")"
   ]
  },
  {
   "cell_type": "code",
   "execution_count": null,
   "metadata": {},
   "outputs": [],
   "source": []
  }
 ],
 "metadata": {
  "kernelspec": {
   "display_name": "Scientist",
   "language": "python",
   "name": "scientist"
  },
  "language_info": {
   "codemirror_mode": {
    "name": "ipython",
    "version": 3
   },
   "file_extension": ".py",
   "mimetype": "text/x-python",
   "name": "python",
   "nbconvert_exporter": "python",
   "pygments_lexer": "ipython3",
   "version": "3.8.10"
  },
  "toc": {
   "base_numbering": 1,
   "nav_menu": {},
   "number_sections": true,
   "sideBar": true,
   "skip_h1_title": true,
   "title_cell": "Table of Contents",
   "title_sidebar": "Contents",
   "toc_cell": false,
   "toc_position": {},
   "toc_section_display": true,
   "toc_window_display": true
  },
  "varInspector": {
   "cols": {
    "lenName": 16,
    "lenType": 16,
    "lenVar": 40
   },
   "kernels_config": {
    "python": {
     "delete_cmd_postfix": "",
     "delete_cmd_prefix": "del ",
     "library": "var_list.py",
     "varRefreshCmd": "print(var_dic_list())"
    },
    "r": {
     "delete_cmd_postfix": ") ",
     "delete_cmd_prefix": "rm(",
     "library": "var_list.r",
     "varRefreshCmd": "cat(var_dic_list()) "
    }
   },
   "types_to_exclude": [
    "module",
    "function",
    "builtin_function_or_method",
    "instance",
    "_Feature"
   ],
   "window_display": false
  }
 },
 "nbformat": 4,
 "nbformat_minor": 4
}
